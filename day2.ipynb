{
 "cells": [
  {
   "cell_type": "markdown",
   "metadata": {},
   "source": [
    "# Functions:\n",
    "- block of code to perform particular task\n",
    "\n",
    "## advantages of functions:\n",
    "+ code reuse\n",
    "+ size decreases\n",
    "## types of the functions\n",
    "1. \n",
    "predefine functions\n",
    "2. userdefined function\n",
    "3. special function\n",
    "+ based on return type \n",
    "   1. without argument and without return value\n",
    "   2. without argument and with return value\n",
    "   4. with argument and without return value\n",
    "   7. with argument and with return value\n",
    "+ based on argument\n",
    "   1. default arg\n",
    "   3. required arg\n",
    "   34. variable length arg\n",
    "   4. keyword arg"
   ]
  },
  {
   "cell_type": "markdown",
   "metadata": {},
   "source": [
    "## how to create user defined function\n",
    "1. function creation\n",
    "    + function declaration:\n",
    "         `def Functionname(args):`\n",
    "    - function definition:\n",
    "        statements\n",
    "2. function calling:\n",
    "      + by using Functionname"
   ]
  },
  {
   "cell_type": "code",
   "execution_count": 3,
   "metadata": {},
   "outputs": [
    {
     "name": "stdout",
     "output_type": "stream",
     "text": [
      "sample function\n"
     ]
    }
   ],
   "source": [
    "def sample():\n",
    "    print('sample function')\n",
    "sample()"
   ]
  },
  {
   "cell_type": "code",
   "execution_count": 2,
   "metadata": {},
   "outputs": [
    {
     "name": "stdout",
     "output_type": "stream",
     "text": [
      "Example of without arg and without return type\n",
      "1\n",
      "2\n",
      "Adding 1 and 2 is 3\n",
      "Example of without arg and with return type\n",
      "3\n",
      "4\n",
      "Adding 3 and 4 is 7\n",
      "7\n",
      "Example of with arg and without return type\n",
      "mul of 4 and 5 is 20\n",
      "Example of with arg and with return type\n",
      "division of 100 and 5 is 20.0\n",
      "div is 20.0\n"
     ]
    }
   ],
   "source": [
    "#without argument and without return value\n",
    "def fun():\n",
    "    print(\"Example of without arg and without return type\")\n",
    "    s1=int(input())\n",
    "    s2=int(input())\n",
    "    print(\"Adding {} and {} is {}\".format(s1,s2,s1+s2))\n",
    "fun()\n",
    "#without argument and with return value\n",
    "def fun1():\n",
    "    print(\"Example of without arg and with return type\")\n",
    "    s1=int(input())\n",
    "    s2=int(input())\n",
    "    print(\"Adding {} and {} is {}\".format(s1,s2,s1+s2))\n",
    "    return s1+s2\n",
    "s=fun1()\n",
    "print(s)\n",
    "#with argument and without return value\n",
    "def fun3(a,b):\n",
    "    print(\"Example of with arg and without return type\")\n",
    "    print(\"mul of {} and {} is {}\".format(a,b,a*b))\n",
    "fun3(4,5)\n",
    "#with argument and with return value\n",
    "def fun4(a,b):\n",
    "    print(\"Example of with arg and with return type\")\n",
    "    print(\"division of {} and {} is {}\".format(a,b,a/b))\n",
    "    return a/b\n",
    "s=fun4(100,5)\n",
    "print('div is {}'.format(s))"
   ]
  },
  {
   "cell_type": "code",
   "execution_count": 36,
   "metadata": {},
   "outputs": [
    {
     "data": {
      "text/plain": [
       "16"
      ]
     },
     "execution_count": 36,
     "metadata": {},
     "output_type": "execute_result"
    }
   ],
   "source": [
    "# 1.default arguments-\n",
    "#are the arguments which are passing the variables at the time of function declaration\n",
    "def default(a=6,b=4):\n",
    "    return a**b\n",
    "#default()\n",
    "default(2)"
   ]
  },
  {
   "cell_type": "code",
   "execution_count": 37,
   "metadata": {},
   "outputs": [
    {
     "name": "stdout",
     "output_type": "stream",
     "text": [
      "22 2 10\n"
     ]
    }
   ],
   "source": [
    "# 2.required or positional arguments\n",
    "def required(a,b,c=10):\n",
    "    print(a,b,c)\n",
    "#required(20,934,2)\n",
    "required(22,2)"
   ]
  },
  {
   "cell_type": "code",
   "execution_count": 38,
   "metadata": {},
   "outputs": [
    {
     "data": {
      "text/plain": [
       "841"
      ]
     },
     "execution_count": 38,
     "metadata": {},
     "output_type": "execute_result"
    }
   ],
   "source": [
    "# 3.variable length arguments\n",
    "def var_len(*a):\n",
    "    s=0\n",
    "    for i in a:\n",
    "        s+=i\n",
    "    return s\n",
    "    #print(a)\n",
    "var_len(1,2,3,5,7,9,6,4,2,1,23,46,78,4,3,3,5,555,5,56,7,8,8)"
   ]
  },
  {
   "cell_type": "code",
   "execution_count": 39,
   "metadata": {},
   "outputs": [
    {
     "data": {
      "text/plain": [
       "584"
      ]
     },
     "execution_count": 39,
     "metadata": {},
     "output_type": "execute_result"
    }
   ],
   "source": [
    "var_len(99,92,98,100,100,95)"
   ]
  },
  {
   "cell_type": "code",
   "execution_count": 40,
   "metadata": {},
   "outputs": [
    {
     "name": "stdout",
     "output_type": "stream",
     "text": [
      "2 3 10\n"
     ]
    }
   ],
   "source": [
    "required(2,3)"
   ]
  },
  {
   "cell_type": "code",
   "execution_count": 2,
   "metadata": {},
   "outputs": [
    {
     "name": "stdout",
     "output_type": "stream",
     "text": [
      "gopi is working in pacecollege as pune and earning a salary of 5000\n"
     ]
    }
   ],
   "source": [
    "# 4.keyword arguments\n",
    "def Keyword(**name,company,salary):\n",
    "    print(name,'is working in',company,'as pune and earning a salary of',salary)\n",
    "Keyword(name='gopi',company='pacecollege',salary=5000)"
   ]
  },
  {
   "cell_type": "code",
   "execution_count": 10,
   "metadata": {},
   "outputs": [],
   "source": [
    "def table(x,y):\n",
    "    for i in range(1,y+1):\n",
    "        print(x,\"*\",i,'=',x*i)"
   ]
  },
  {
   "cell_type": "code",
   "execution_count": 11,
   "metadata": {},
   "outputs": [
    {
     "name": "stdout",
     "output_type": "stream",
     "text": [
      "Enter tables upto:3\n",
      "Enter table length:20\n",
      "1 * 1 = 1\n",
      "1 * 2 = 2\n",
      "1 * 3 = 3\n",
      "1 * 4 = 4\n",
      "1 * 5 = 5\n",
      "1 * 6 = 6\n",
      "1 * 7 = 7\n",
      "1 * 8 = 8\n",
      "1 * 9 = 9\n",
      "1 * 10 = 10\n",
      "1 * 11 = 11\n",
      "1 * 12 = 12\n",
      "1 * 13 = 13\n",
      "1 * 14 = 14\n",
      "1 * 15 = 15\n",
      "1 * 16 = 16\n",
      "1 * 17 = 17\n",
      "1 * 18 = 18\n",
      "1 * 19 = 19\n",
      "1 * 20 = 20\n",
      "2 * 1 = 2\n",
      "2 * 2 = 4\n",
      "2 * 3 = 6\n",
      "2 * 4 = 8\n",
      "2 * 5 = 10\n",
      "2 * 6 = 12\n",
      "2 * 7 = 14\n",
      "2 * 8 = 16\n",
      "2 * 9 = 18\n",
      "2 * 10 = 20\n",
      "2 * 11 = 22\n",
      "2 * 12 = 24\n",
      "2 * 13 = 26\n",
      "2 * 14 = 28\n",
      "2 * 15 = 30\n",
      "2 * 16 = 32\n",
      "2 * 17 = 34\n",
      "2 * 18 = 36\n",
      "2 * 19 = 38\n",
      "2 * 20 = 40\n"
     ]
    }
   ],
   "source": [
    "x=int(input(\"Enter tables upto:\"))\n",
    "y=int(input(\"Enter table length:\"))\n",
    "for i in range(1,x):\n",
    "    table(i,y)"
   ]
  },
  {
   "cell_type": "code",
   "execution_count": 8,
   "metadata": {},
   "outputs": [
    {
     "name": "stdout",
     "output_type": "stream",
     "text": [
      "2\n",
      "4\n",
      "6\n",
      "8\n",
      "10\n",
      "12\n",
      "14\n",
      "16\n",
      "18\n",
      "20\n",
      "22\n",
      "24\n",
      "26\n",
      "28\n",
      "30\n",
      "32\n",
      "34\n",
      "36\n",
      "38\n",
      "40\n",
      "42\n",
      "44\n",
      "46\n",
      "48\n",
      "50\n",
      "52\n",
      "54\n",
      "56\n",
      "58\n",
      "60\n",
      "62\n",
      "64\n",
      "66\n",
      "68\n",
      "70\n",
      "72\n",
      "74\n",
      "76\n",
      "78\n",
      "80\n",
      "82\n",
      "84\n",
      "86\n",
      "88\n",
      "90\n",
      "92\n",
      "94\n",
      "96\n",
      "98\n",
      "100\n"
     ]
    }
   ],
   "source": [
    "#### even numbers\n",
    "def even(start,end):\n",
    "    for i in range(start,end+1):\n",
    "        if i%2==0:\n",
    "            print(i)\n",
    "even(1,100)"
   ]
  },
  {
   "cell_type": "code",
   "execution_count": 26,
   "metadata": {},
   "outputs": [
    {
     "name": "stdout",
     "output_type": "stream",
     "text": [
      "Factors of :4\n",
      "1\n",
      "2\n"
     ]
    }
   ],
   "source": [
    "# factors of number\n",
    "def factors(a):\n",
    "    for i in range(1,a):\n",
    "        if a%i==0:\n",
    "            print(i)\n",
    "n=int(input(\"Factors of :\"))\n",
    "factors(n)"
   ]
  },
  {
   "cell_type": "code",
   "execution_count": 3,
   "metadata": {},
   "outputs": [
    {
     "name": "stdout",
     "output_type": "stream",
     "text": [
      "6\n"
     ]
    }
   ],
   "source": [
    "def sum_factors(a):\n",
    "    s=0\n",
    "    for i in range(1,a):\n",
    "        if a%i==0:\n",
    "            s+=i\n",
    "    print(s)\n",
    "sum_factors(6)"
   ]
  },
  {
   "cell_type": "code",
   "execution_count": 5,
   "metadata": {},
   "outputs": [
    {
     "name": "stdout",
     "output_type": "stream",
     "text": [
      "Enter the number:5\n"
     ]
    },
    {
     "data": {
      "text/plain": [
       "120"
      ]
     },
     "execution_count": 5,
     "metadata": {},
     "output_type": "execute_result"
    }
   ],
   "source": [
    "# recursive function\n",
    "def Fact(n):\n",
    "    if n==1 or n==0:\n",
    "        return 1\n",
    "    else:\n",
    "        return n*Fact(n-1)\n",
    "a=int(input(\"Enter the number:\"))\n",
    "Fact(a)"
   ]
  },
  {
   "cell_type": "code",
   "execution_count": 10,
   "metadata": {},
   "outputs": [
    {
     "name": "stdout",
     "output_type": "stream",
     "text": [
      "Enter the number to be checked:5\n",
      "total no of factors 2\n",
      "5 prime number\n"
     ]
    }
   ],
   "source": [
    "#prime number\n",
    "def count_factors(a):\n",
    "    s=0\n",
    "    for i in range(1,a+1):\n",
    "        if a%i==0:\n",
    "            s+=1\n",
    "    print('total no of factors',s)\n",
    "    if(s<=2):\n",
    "        print(a,\"prime number\")\n",
    "    else:\n",
    "        print(a,\"not a prime number\")\n",
    "k=int(input(\"Enter the number to be checked:\"))\n",
    "count_factors(k)"
   ]
  },
  {
   "cell_type": "markdown",
   "metadata": {},
   "source": [
    "# strings\n",
    "+ collections of characters or group of characters\n",
    "+ sring will represents in `''`,`''''`,`''''''`\n",
    "- string is ordered data\n",
    "+ string is immutable\n",
    "* string accept indexing and slicing"
   ]
  },
  {
   "cell_type": "code",
   "execution_count": 12,
   "metadata": {},
   "outputs": [
    {
     "data": {
      "text/plain": [
       "str"
      ]
     },
     "execution_count": 12,
     "metadata": {},
     "output_type": "execute_result"
    }
   ],
   "source": [
    "s='abc'\n",
    "type(s)"
   ]
  },
  {
   "cell_type": "code",
   "execution_count": 41,
   "metadata": {},
   "outputs": [
    {
     "name": "stdout",
     "output_type": "stream",
     "text": [
      "17\n",
      "p\n",
      "g\n",
      "ing\n",
      "python\n",
      "programming\n",
      "programming\n",
      "ptopormig\n",
      "php\n",
      "phpgmn\n"
     ]
    }
   ],
   "source": [
    "s='python'\n",
    "s+='programming'\n",
    "#s\n",
    "#indexing\n",
    "#Forword indexing -> 0 to len(s)-1\n",
    "#reverse indexing -> -1 to -len(s)\n",
    "#slicing operator :\n",
    "#var[start_value:end_value]\n",
    "print(len(s))\n",
    "print(s[-len(s)])\n",
    "print(s[len(s)-1])\n",
    "print(s[-3:])\n",
    "print(s[0:6])\n",
    "print(s[6:])\n",
    "print(s[-11:])\n",
    "print(s[0::2])\n",
    "print(s[0:8:3])\n",
    "print(s[0::3])"
   ]
  },
  {
   "cell_type": "code",
   "execution_count": 24,
   "metadata": {},
   "outputs": [
    {
     "name": "stdout",
     "output_type": "stream",
     "text": [
      "Enter the number:123\n",
      "321\n"
     ]
    }
   ],
   "source": [
    "n=int(input(\"Enter the number:\"))\n",
    "temp=n\n",
    "reverse=0\n",
    "while(n>0):\n",
    "    remainder=n%10\n",
    "    reverse=(reverse*10)+remainder\n",
    "    n=n//10\n",
    "print(reverse)"
   ]
  },
  {
   "cell_type": "code",
   "execution_count": 22,
   "metadata": {},
   "outputs": [
    {
     "name": "stdout",
     "output_type": "stream",
     "text": [
      "Enter a number:121\n",
      " palindrome!\n"
     ]
    }
   ],
   "source": [
    "num=int(input(\"Enter a number:\"))\n",
    "temp=num\n",
    "rev=0\n",
    "while(num>0):\n",
    "    dig=num%10\n",
    "    rev=rev*10+dig\n",
    "    num=num//10\n",
    "if(temp==rev):\n",
    "    print(\" palindrome!\")\n",
    "else:\n",
    "    print(\"Not a palindrome!\")"
   ]
  },
  {
   "cell_type": "code",
   "execution_count": 26,
   "metadata": {},
   "outputs": [
    {
     "data": {
      "text/plain": [
       "'gnimmargorp'"
      ]
     },
     "execution_count": 26,
     "metadata": {},
     "output_type": "execute_result"
    }
   ],
   "source": [
    "s='python programming'\n",
    "#reverse a string\n",
    "s[:-12:-1]\n",
    "s[0:6][::-1]\n",
    "s[7:18][::-1]"
   ]
  },
  {
   "cell_type": "code",
   "execution_count": 39,
   "metadata": {},
   "outputs": [
    {
     "name": "stdout",
     "output_type": "stream",
     "text": [
      "Enter the wordmadam\n"
     ]
    },
    {
     "data": {
      "text/plain": [
       "True"
      ]
     },
     "execution_count": 39,
     "metadata": {},
     "output_type": "execute_result"
    }
   ],
   "source": [
    "def palindrome(word):\n",
    "    if word == word[::-1]:\n",
    "        return True\n",
    "    else:\n",
    "        return False\n",
    "word=input('Enter the word')\n",
    "palindrome(word)"
   ]
  },
  {
   "cell_type": "code",
   "execution_count": 3,
   "metadata": {},
   "outputs": [
    {
     "data": {
      "text/plain": [
       "'nohtyp  programming'"
      ]
     },
     "execution_count": 3,
     "metadata": {},
     "output_type": "execute_result"
    }
   ],
   "source": [
    "s='python programming'\n",
    "s[0:6][::-1]+' ' +s[6:18]"
   ]
  },
  {
   "cell_type": "code",
   "execution_count": 6,
   "metadata": {},
   "outputs": [
    {
     "data": {
      "text/plain": [
       "['__add__',\n",
       " '__class__',\n",
       " '__contains__',\n",
       " '__delattr__',\n",
       " '__dir__',\n",
       " '__doc__',\n",
       " '__eq__',\n",
       " '__format__',\n",
       " '__ge__',\n",
       " '__getattribute__',\n",
       " '__getitem__',\n",
       " '__getnewargs__',\n",
       " '__gt__',\n",
       " '__hash__',\n",
       " '__init__',\n",
       " '__init_subclass__',\n",
       " '__iter__',\n",
       " '__le__',\n",
       " '__len__',\n",
       " '__lt__',\n",
       " '__mod__',\n",
       " '__mul__',\n",
       " '__ne__',\n",
       " '__new__',\n",
       " '__reduce__',\n",
       " '__reduce_ex__',\n",
       " '__repr__',\n",
       " '__rmod__',\n",
       " '__rmul__',\n",
       " '__setattr__',\n",
       " '__sizeof__',\n",
       " '__str__',\n",
       " '__subclasshook__',\n",
       " 'capitalize',\n",
       " 'casefold',\n",
       " 'center',\n",
       " 'count',\n",
       " 'encode',\n",
       " 'endswith',\n",
       " 'expandtabs',\n",
       " 'find',\n",
       " 'format',\n",
       " 'format_map',\n",
       " 'index',\n",
       " 'isalnum',\n",
       " 'isalpha',\n",
       " 'isdecimal',\n",
       " 'isdigit',\n",
       " 'isidentifier',\n",
       " 'islower',\n",
       " 'isnumeric',\n",
       " 'isprintable',\n",
       " 'isspace',\n",
       " 'istitle',\n",
       " 'isupper',\n",
       " 'join',\n",
       " 'ljust',\n",
       " 'lower',\n",
       " 'lstrip',\n",
       " 'maketrans',\n",
       " 'partition',\n",
       " 'replace',\n",
       " 'rfind',\n",
       " 'rindex',\n",
       " 'rjust',\n",
       " 'rpartition',\n",
       " 'rsplit',\n",
       " 'rstrip',\n",
       " 'split',\n",
       " 'splitlines',\n",
       " 'startswith',\n",
       " 'strip',\n",
       " 'swapcase',\n",
       " 'title',\n",
       " 'translate',\n",
       " 'upper',\n",
       " 'zfill']"
      ]
     },
     "execution_count": 6,
     "metadata": {},
     "output_type": "execute_result"
    }
   ],
   "source": [
    "#methods\n",
    "dir(str)"
   ]
  },
  {
   "cell_type": "code",
   "execution_count": 115,
   "metadata": {},
   "outputs": [
    {
     "name": "stdout",
     "output_type": "stream",
     "text": [
      "pythonprogramming"
     ]
    }
   ],
   "source": [
    "s='pythonprogramming'\n",
    "for i in range(len(s)):\n",
    "    print(s[i],end='')"
   ]
  },
  {
   "cell_type": "code",
   "execution_count": 116,
   "metadata": {},
   "outputs": [
    {
     "data": {
      "text/plain": [
       "'Pythonprogramming'"
      ]
     },
     "execution_count": 116,
     "metadata": {},
     "output_type": "execute_result"
    }
   ],
   "source": [
    "s.capitalize()"
   ]
  },
  {
   "cell_type": "code",
   "execution_count": 117,
   "metadata": {},
   "outputs": [
    {
     "data": {
      "text/plain": [
       "True"
      ]
     },
     "execution_count": 117,
     "metadata": {},
     "output_type": "execute_result"
    }
   ],
   "source": [
    "s.isalnum()#alphabet and numbers"
   ]
  },
  {
   "cell_type": "code",
   "execution_count": 118,
   "metadata": {},
   "outputs": [
    {
     "data": {
      "text/plain": [
       "True"
      ]
     },
     "execution_count": 118,
     "metadata": {},
     "output_type": "execute_result"
    }
   ],
   "source": [
    "s.isalpha()"
   ]
  },
  {
   "cell_type": "code",
   "execution_count": 119,
   "metadata": {},
   "outputs": [
    {
     "data": {
      "text/plain": [
       "True"
      ]
     },
     "execution_count": 119,
     "metadata": {},
     "output_type": "execute_result"
    }
   ],
   "source": [
    "s.islower()"
   ]
  },
  {
   "cell_type": "code",
   "execution_count": 98,
   "metadata": {},
   "outputs": [
    {
     "data": {
      "text/plain": [
       "'PYTHON PROGRAMMING'"
      ]
     },
     "execution_count": 98,
     "metadata": {},
     "output_type": "execute_result"
    }
   ],
   "source": [
    "s.upper()"
   ]
  },
  {
   "cell_type": "code",
   "execution_count": 99,
   "metadata": {},
   "outputs": [
    {
     "data": {
      "text/plain": [
       "'python programming'"
      ]
     },
     "execution_count": 99,
     "metadata": {},
     "output_type": "execute_result"
    }
   ],
   "source": [
    "s.casefold() #returns all the values in lower"
   ]
  },
  {
   "cell_type": "code",
   "execution_count": 100,
   "metadata": {},
   "outputs": [
    {
     "data": {
      "text/plain": [
       "2"
      ]
     },
     "execution_count": 100,
     "metadata": {},
     "output_type": "execute_result"
    }
   ],
   "source": [
    "s.count('p')"
   ]
  },
  {
   "cell_type": "code",
   "execution_count": 40,
   "metadata": {
    "scrolled": false
   },
   "outputs": [
    {
     "name": "stdout",
     "output_type": "stream",
     "text": [
      "b'helllllllooooooo'\n"
     ]
    },
    {
     "data": {
      "text/plain": [
       "'helllllllooooooo'"
      ]
     },
     "execution_count": 40,
     "metadata": {},
     "output_type": "execute_result"
    }
   ],
   "source": [
    "s='helllllllooooooo'\n",
    "r=s.encode()\n",
    "print(r)\n",
    "k=r.decode()\n",
    "k"
   ]
  },
  {
   "cell_type": "code",
   "execution_count": 102,
   "metadata": {},
   "outputs": [
    {
     "data": {
      "text/plain": [
       "14"
      ]
     },
     "execution_count": 102,
     "metadata": {},
     "output_type": "execute_result"
    }
   ],
   "source": [
    "s.rfind('m')"
   ]
  },
  {
   "cell_type": "code",
   "execution_count": 103,
   "metadata": {},
   "outputs": [
    {
     "data": {
      "text/plain": [
       "False"
      ]
     },
     "execution_count": 103,
     "metadata": {},
     "output_type": "execute_result"
    }
   ],
   "source": [
    "s.endswith('a')"
   ]
  },
  {
   "cell_type": "code",
   "execution_count": 148,
   "metadata": {},
   "outputs": [
    {
     "data": {
      "text/plain": [
       "'abc#1@23'"
      ]
     },
     "execution_count": 148,
     "metadata": {},
     "output_type": "execute_result"
    }
   ],
   "source": [
    "s.expandtabs()"
   ]
  },
  {
   "cell_type": "code",
   "execution_count": 105,
   "metadata": {},
   "outputs": [
    {
     "data": {
      "text/plain": [
       "'$$$python programming$$$'"
      ]
     },
     "execution_count": 105,
     "metadata": {},
     "output_type": "execute_result"
    }
   ],
   "source": [
    "s.center(24,'$')"
   ]
  },
  {
   "cell_type": "code",
   "execution_count": 106,
   "metadata": {},
   "outputs": [
    {
     "data": {
      "text/plain": [
       "0"
      ]
     },
     "execution_count": 106,
     "metadata": {},
     "output_type": "execute_result"
    }
   ],
   "source": [
    "s.find('py')"
   ]
  },
  {
   "cell_type": "code",
   "execution_count": 127,
   "metadata": {},
   "outputs": [
    {
     "data": {
      "text/plain": [
       "'pythonprogramming'"
      ]
     },
     "execution_count": 127,
     "metadata": {},
     "output_type": "execute_result"
    }
   ],
   "source": [
    "s.format_map('q')"
   ]
  },
  {
   "cell_type": "code",
   "execution_count": 108,
   "metadata": {},
   "outputs": [
    {
     "data": {
      "text/plain": [
       "True"
      ]
     },
     "execution_count": 108,
     "metadata": {},
     "output_type": "execute_result"
    }
   ],
   "source": [
    "s.startswith('pyt')"
   ]
  },
  {
   "cell_type": "code",
   "execution_count": 109,
   "metadata": {},
   "outputs": [
    {
     "data": {
      "text/plain": [
       "'Python Programming'"
      ]
     },
     "execution_count": 109,
     "metadata": {},
     "output_type": "execute_result"
    }
   ],
   "source": [
    "s.title()"
   ]
  },
  {
   "cell_type": "code",
   "execution_count": 124,
   "metadata": {},
   "outputs": [
    {
     "data": {
      "text/plain": [
       "'    pythonprogramming'"
      ]
     },
     "execution_count": 124,
     "metadata": {},
     "output_type": "execute_result"
    }
   ],
   "source": [
    "s.rjust(21)"
   ]
  },
  {
   "cell_type": "code",
   "execution_count": 121,
   "metadata": {},
   "outputs": [
    {
     "data": {
      "text/plain": [
       "'PYTHONPROGRAMMING'"
      ]
     },
     "execution_count": 121,
     "metadata": {},
     "output_type": "execute_result"
    }
   ],
   "source": [
    "s.swapcase()"
   ]
  },
  {
   "cell_type": "code",
   "execution_count": 168,
   "metadata": {},
   "outputs": [
    {
     "data": {
      "text/plain": [
       "'python               '"
      ]
     },
     "execution_count": 168,
     "metadata": {},
     "output_type": "execute_result"
    }
   ],
   "source": [
    "s.ljust(21)"
   ]
  },
  {
   "cell_type": "code",
   "execution_count": 123,
   "metadata": {},
   "outputs": [
    {
     "data": {
      "text/plain": [
       "True"
      ]
     },
     "execution_count": 123,
     "metadata": {},
     "output_type": "execute_result"
    }
   ],
   "source": [
    "'a'.isalpha()"
   ]
  },
  {
   "cell_type": "code",
   "execution_count": 126,
   "metadata": {},
   "outputs": [
    {
     "data": {
      "text/plain": [
       "'python programming'"
      ]
     },
     "execution_count": 126,
     "metadata": {},
     "output_type": "execute_result"
    }
   ],
   "source": [
    "s1= ' python programming '\n",
    "s1.strip()"
   ]
  },
  {
   "cell_type": "code",
   "execution_count": 146,
   "metadata": {},
   "outputs": [
    {
     "data": {
      "text/plain": [
       "['abc#', '23']"
      ]
     },
     "execution_count": 146,
     "metadata": {},
     "output_type": "execute_result"
    }
   ],
   "source": [
    "s='abc#1@23'\n",
    "s.split('1@')"
   ]
  },
  {
   "cell_type": "code",
   "execution_count": 151,
   "metadata": {},
   "outputs": [
    {
     "data": {
      "text/plain": [
       "'abc@123'"
      ]
     },
     "execution_count": 151,
     "metadata": {},
     "output_type": "execute_result"
    }
   ],
   "source": [
    "li=['abc','123']\n",
    "s='@'.join(li)\n",
    "s"
   ]
  },
  {
   "cell_type": "code",
   "execution_count": 170,
   "metadata": {},
   "outputs": [
    {
     "data": {
      "text/plain": [
       "'0000python'"
      ]
     },
     "execution_count": 170,
     "metadata": {},
     "output_type": "execute_result"
    }
   ],
   "source": [
    "s='python'\n",
    "s.zfill(10)"
   ]
  },
  {
   "cell_type": "code",
   "execution_count": 171,
   "metadata": {},
   "outputs": [
    {
     "data": {
      "text/plain": [
       "True"
      ]
     },
     "execution_count": 171,
     "metadata": {},
     "output_type": "execute_result"
    }
   ],
   "source": [
    "s=' '\n",
    "s.isspace()"
   ]
  },
  {
   "cell_type": "code",
   "execution_count": 177,
   "metadata": {},
   "outputs": [
    {
     "data": {
      "text/plain": [
       "True"
      ]
     },
     "execution_count": 177,
     "metadata": {},
     "output_type": "execute_result"
    }
   ],
   "source": [
    "s='Python'\n",
    "s.istitle()"
   ]
  },
  {
   "cell_type": "code",
   "execution_count": 199,
   "metadata": {},
   "outputs": [
    {
     "name": "stdout",
     "output_type": "stream",
     "text": [
      "alphabets are 3\n",
      "digits are 3\n",
      "Special keywords 3\n"
     ]
    }
   ],
   "source": [
    "s='abc123@#$'\n",
    "print(\"alphabets are\",len(s[0:3]))\n",
    "print(\"digits are\",len(s[3:6]))\n",
    "print(\"Special keywords\",len(s[6:]))"
   ]
  },
  {
   "cell_type": "code",
   "execution_count": null,
   "metadata": {},
   "outputs": [],
   "source": [
    "#perfect numbers in between the given range\n",
    "#palindrome in functions\n",
    "#prime in range in functions\n"
   ]
  },
  {
   "cell_type": "code",
   "execution_count": 3,
   "metadata": {},
   "outputs": [
    {
     "name": "stdout",
     "output_type": "stream",
     "text": [
      "Enter the number:121\n",
      " palindrome!\n"
     ]
    }
   ],
   "source": [
    "def palindrome(num):\n",
    "    temp=num\n",
    "    rev=0\n",
    "    while(num>0):\n",
    "        dig=num%10\n",
    "        rev=rev*10+dig\n",
    "        num=num//10\n",
    "    if(temp==rev):\n",
    "        print(\" palindrome!\")\n",
    "    else:\n",
    "        print(\"Not a palindrome\")\n",
    "num=int(input(\"Enter the number:\"))\n",
    "palindrome(num)"
   ]
  },
  {
   "cell_type": "code",
   "execution_count": 11,
   "metadata": {},
   "outputs": [
    {
     "name": "stdout",
     "output_type": "stream",
     "text": [
      "Enter the start value:1\n",
      "Enter the end value:100\n",
      "2\n",
      "3\n",
      "5\n",
      "7\n",
      "11\n",
      "13\n",
      "17\n",
      "19\n",
      "23\n",
      "29\n",
      "31\n",
      "37\n",
      "41\n",
      "43\n",
      "47\n",
      "53\n",
      "59\n",
      "61\n",
      "67\n",
      "71\n",
      "73\n",
      "79\n",
      "83\n",
      "89\n",
      "97\n"
     ]
    }
   ],
   "source": [
    "def prime(start,end):\n",
    "    for i in range(start,end+1):\n",
    "        if i>1:\n",
    "            for n in range(2,i):\n",
    "                if i%n==0:\n",
    "                    break\n",
    "            else:\n",
    "                print(i)\n",
    "start=int(input(\"Enter the start value:\"))\n",
    "end=int(input(\"Enter the end value:\"))\n",
    "prime(start,end)\n",
    "            "
   ]
  },
  {
   "cell_type": "code",
   "execution_count": 17,
   "metadata": {},
   "outputs": [
    {
     "name": "stdout",
     "output_type": "stream",
     "text": [
      "Enter the start value:1\n",
      "Enter the end value:100\n",
      "6\n",
      "28\n"
     ]
    }
   ],
   "source": [
    "def perfect_numbers(a,b):\n",
    "    for i in range(a,b+1):\n",
    "        s=0\n",
    "        for j in range(1,i):\n",
    "            if i%j==0:\n",
    "                s+=j\n",
    "        if(s==i):\n",
    "            print(i)\n",
    "a=int(input(\"Enter the start value:\"))\n",
    "b=int(input(\"Enter the end value:\"))\n",
    "perfect_numbers(a,b)"
   ]
  },
  {
   "cell_type": "code",
   "execution_count": 27,
   "metadata": {},
   "outputs": [],
   "source": [
    "def char_count(s):\n",
    "    ac = dc = scc = 0\n",
    "    for i in s:\n",
    "        if i.isalpha():\n",
    "            ac+=1\n",
    "        elif i.isdigit():\n",
    "            dc+=1\n",
    "        else:\n",
    "            scc+=1\n",
    "    print(\"alphabets are:\",ac)\n",
    "    print(\"Digits are:\",dc)\n",
    "    print(\"Special characters are:\",scc)"
   ]
  },
  {
   "cell_type": "code",
   "execution_count": 28,
   "metadata": {},
   "outputs": [
    {
     "name": "stdout",
     "output_type": "stream",
     "text": [
      "alphabets are: 14\n",
      "Digits are: 8\n",
      "Special characters are: 7\n"
     ]
    }
   ],
   "source": [
    "char_count(\"12312324adwefrgbrejnrt@#$%%^&\")"
   ]
  },
  {
   "cell_type": "code",
   "execution_count": 32,
   "metadata": {},
   "outputs": [
    {
     "name": "stdout",
     "output_type": "stream",
     "text": [
      "d f g "
     ]
    }
   ],
   "source": [
    "def str_task(s):\n",
    "    for i in s:\n",
    "        print(chr(ord(i)+3),end=' ')\n",
    "str_task(\"acd\")"
   ]
  },
  {
   "cell_type": "code",
   "execution_count": null,
   "metadata": {},
   "outputs": [],
   "source": [
    "#s = 'abc123456'\n",
    "#output:26"
   ]
  },
  {
   "cell_type": "code",
   "execution_count": null,
   "metadata": {},
   "outputs": [],
   "source": [
    "s=input()\n",
    "a=0\n",
    "for i in s:\n",
    "    if i.isdigit():\n",
    "        a+=i\n",
    "print(a)\n",
    "\n"
   ]
  },
  {
   "cell_type": "code",
   "execution_count": 2,
   "metadata": {},
   "outputs": [
    {
     "name": "stdout",
     "output_type": "stream",
     "text": [
      "5\n",
      "20\n",
      "0 * 0 = 0   1 * 0 = 0   2 * 0 = 0   3 * 0 = 0   4 * 0 = 0   5 * 0 = 0    \t \n",
      "0 * 1 = 0   1 * 1 = 1   2 * 1 = 2   3 * 1 = 3   4 * 1 = 4   5 * 1 = 5    \t \n",
      "0 * 2 = 0   1 * 2 = 2   2 * 2 = 4   3 * 2 = 6   4 * 2 = 8   5 * 2 = 10    \t \n",
      "0 * 3 = 0   1 * 3 = 3   2 * 3 = 6   3 * 3 = 9   4 * 3 = 12   5 * 3 = 15    \t \n",
      "0 * 4 = 0   1 * 4 = 4   2 * 4 = 8   3 * 4 = 12   4 * 4 = 16   5 * 4 = 20    \t \n",
      "0 * 5 = 0   1 * 5 = 5   2 * 5 = 10   3 * 5 = 15   4 * 5 = 20   5 * 5 = 25    \t \n",
      "0 * 6 = 0   1 * 6 = 6   2 * 6 = 12   3 * 6 = 18   4 * 6 = 24   5 * 6 = 30    \t \n",
      "0 * 7 = 0   1 * 7 = 7   2 * 7 = 14   3 * 7 = 21   4 * 7 = 28   5 * 7 = 35    \t \n",
      "0 * 8 = 0   1 * 8 = 8   2 * 8 = 16   3 * 8 = 24   4 * 8 = 32   5 * 8 = 40    \t \n",
      "0 * 9 = 0   1 * 9 = 9   2 * 9 = 18   3 * 9 = 27   4 * 9 = 36   5 * 9 = 45    \t \n",
      "0 * 10 = 0   1 * 10 = 10   2 * 10 = 20   3 * 10 = 30   4 * 10 = 40   5 * 10 = 50    \t \n",
      "0 * 11 = 0   1 * 11 = 11   2 * 11 = 22   3 * 11 = 33   4 * 11 = 44   5 * 11 = 55    \t \n",
      "0 * 12 = 0   1 * 12 = 12   2 * 12 = 24   3 * 12 = 36   4 * 12 = 48   5 * 12 = 60    \t \n",
      "0 * 13 = 0   1 * 13 = 13   2 * 13 = 26   3 * 13 = 39   4 * 13 = 52   5 * 13 = 65    \t \n",
      "0 * 14 = 0   1 * 14 = 14   2 * 14 = 28   3 * 14 = 42   4 * 14 = 56   5 * 14 = 70    \t \n",
      "0 * 15 = 0   1 * 15 = 15   2 * 15 = 30   3 * 15 = 45   4 * 15 = 60   5 * 15 = 75    \t \n",
      "0 * 16 = 0   1 * 16 = 16   2 * 16 = 32   3 * 16 = 48   4 * 16 = 64   5 * 16 = 80    \t \n",
      "0 * 17 = 0   1 * 17 = 17   2 * 17 = 34   3 * 17 = 51   4 * 17 = 68   5 * 17 = 85    \t \n",
      "0 * 18 = 0   1 * 18 = 18   2 * 18 = 36   3 * 18 = 54   4 * 18 = 72   5 * 18 = 90    \t \n",
      "0 * 19 = 0   1 * 19 = 19   2 * 19 = 38   3 * 19 = 57   4 * 19 = 76   5 * 19 = 95    \t \n",
      "0 * 20 = 0   1 * 20 = 20   2 * 20 = 40   3 * 20 = 60   4 * 20 = 80   5 * 20 = 100    \t \n"
     ]
    }
   ],
   "source": [
    "n1=int(input())\n",
    "n2=int(input())\n",
    "for j in range(n2+1):\n",
    "    for i in range(n1+1):\n",
    "        print(i,'*',j,'=',i*j,end='   ')\n",
    "    print(' \\t ')"
   ]
  },
  {
   "cell_type": "code",
   "execution_count": null,
   "metadata": {},
   "outputs": [],
   "source": []
  }
 ],
 "metadata": {
  "kernelspec": {
   "display_name": "Python 3",
   "language": "python",
   "name": "python3"
  },
  "language_info": {
   "codemirror_mode": {
    "name": "ipython",
    "version": 3
   },
   "file_extension": ".py",
   "mimetype": "text/x-python",
   "name": "python",
   "nbconvert_exporter": "python",
   "pygments_lexer": "ipython3",
   "version": "3.6.5"
  }
 },
 "nbformat": 4,
 "nbformat_minor": 4
}
